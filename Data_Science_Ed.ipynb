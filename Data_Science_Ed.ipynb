{
 "cells": [
  {
   "cell_type": "markdown",
   "metadata": {
    "collapsed": true
   },
   "source": [
    "# Popular Topics in Data Science Education\n",
    "\n",
    "In this project, we are tasked with determining what users want to learn about most in the field of data science for an online content provider such as Dataquest or Data Camp.  \n",
    "\n",
    "To get an initial feel for the state of the industry (or, more accurately, the education side of it), we will first look at some of the data-science-oriented communities on [Stack Exchange](https://stackexchange.com/).\n",
    "\n",
    "Stack Exchange is a collection of 177 online communities geared toward experts and aficionados of such diverse topics as anime & manga, software and operating systems, programming in various languages, literature, mathematics, movies, music, and many more.  \n",
    "\n",
    "Stack exchange also provides publically accessible data in the [Stack Exchange Data Explorer (SEDE)](https://data.stackexchange.com/), a collection of queryable databases for each of its communities.\n"
   ]
  },
  {
   "cell_type": "markdown",
   "metadata": {},
   "source": [
    "## SEDE\n",
    "\n",
    "The first thing we'll do is explore the database for Stack Exchange's Data Science community to get a feel for what posts are popular and what types of questions are asked frequently.\n",
    "\n",
    "The *Posts* table offers some insght with columns indicating the type of post(PostTypeId), the post's score (Score), how many times the post was view (ViewCount), and how many times the post was answered and favorited (AnswerCount and FavoriteCount, respectively). Given this, we'll extract the rows from the *posts* where the post was either a question or an answer and to keep the results manageable, we'll only pull from posts made last year (2019).\n",
    "\n",
    "We'll run the following query:\n",
    "\n",
    "**<code>SELECT *  \n",
    "    FROM posts  \n",
    "  WHERE (PostTypeId = 1 OR PostTypeId = 2) AND  \n",
    "    DATEPART(year, CreationDate) = 2019;</code>    **\n",
    "    \n",
    "Then we'll export the results as a csv and perform the rest of the analysis on that dataset.  \n",
    "\n",
    "\n",
    "\n",
    "\n"
   ]
  },
  {
   "cell_type": "code",
   "execution_count": 1,
   "metadata": {},
   "outputs": [
    {
     "data": {
      "text/html": [
       "<div>\n",
       "<style scoped>\n",
       "    .dataframe tbody tr th:only-of-type {\n",
       "        vertical-align: middle;\n",
       "    }\n",
       "\n",
       "    .dataframe tbody tr th {\n",
       "        vertical-align: top;\n",
       "    }\n",
       "\n",
       "    .dataframe thead th {\n",
       "        text-align: right;\n",
       "    }\n",
       "</style>\n",
       "<table border=\"1\" class=\"dataframe\">\n",
       "  <thead>\n",
       "    <tr style=\"text-align: right;\">\n",
       "      <th></th>\n",
       "      <th>Id</th>\n",
       "      <th>CreationDate</th>\n",
       "      <th>Score</th>\n",
       "      <th>ViewCount</th>\n",
       "      <th>Tags</th>\n",
       "      <th>AnswerCount</th>\n",
       "      <th>FavoriteCount</th>\n",
       "    </tr>\n",
       "  </thead>\n",
       "  <tbody>\n",
       "    <tr>\n",
       "      <td>0</td>\n",
       "      <td>44419</td>\n",
       "      <td>2019-01-23 09:21:13</td>\n",
       "      <td>1</td>\n",
       "      <td>21</td>\n",
       "      <td>&lt;machine-learning&gt;&lt;data-mining&gt;</td>\n",
       "      <td>0</td>\n",
       "      <td>NaN</td>\n",
       "    </tr>\n",
       "    <tr>\n",
       "      <td>1</td>\n",
       "      <td>44420</td>\n",
       "      <td>2019-01-23 09:34:01</td>\n",
       "      <td>0</td>\n",
       "      <td>25</td>\n",
       "      <td>&lt;machine-learning&gt;&lt;regression&gt;&lt;linear-regressi...</td>\n",
       "      <td>0</td>\n",
       "      <td>NaN</td>\n",
       "    </tr>\n",
       "    <tr>\n",
       "      <td>2</td>\n",
       "      <td>44423</td>\n",
       "      <td>2019-01-23 09:58:41</td>\n",
       "      <td>2</td>\n",
       "      <td>1651</td>\n",
       "      <td>&lt;python&gt;&lt;time-series&gt;&lt;forecast&gt;&lt;forecasting&gt;</td>\n",
       "      <td>0</td>\n",
       "      <td>NaN</td>\n",
       "    </tr>\n",
       "    <tr>\n",
       "      <td>3</td>\n",
       "      <td>44427</td>\n",
       "      <td>2019-01-23 10:57:09</td>\n",
       "      <td>0</td>\n",
       "      <td>55</td>\n",
       "      <td>&lt;machine-learning&gt;&lt;scikit-learn&gt;&lt;pca&gt;</td>\n",
       "      <td>1</td>\n",
       "      <td>NaN</td>\n",
       "    </tr>\n",
       "    <tr>\n",
       "      <td>4</td>\n",
       "      <td>44428</td>\n",
       "      <td>2019-01-23 11:02:15</td>\n",
       "      <td>0</td>\n",
       "      <td>19</td>\n",
       "      <td>&lt;dataset&gt;&lt;bigdata&gt;&lt;data&gt;&lt;speech-to-text&gt;</td>\n",
       "      <td>0</td>\n",
       "      <td>NaN</td>\n",
       "    </tr>\n",
       "  </tbody>\n",
       "</table>\n",
       "</div>"
      ],
      "text/plain": [
       "      Id        CreationDate  Score  ViewCount  \\\n",
       "0  44419 2019-01-23 09:21:13      1         21   \n",
       "1  44420 2019-01-23 09:34:01      0         25   \n",
       "2  44423 2019-01-23 09:58:41      2       1651   \n",
       "3  44427 2019-01-23 10:57:09      0         55   \n",
       "4  44428 2019-01-23 11:02:15      0         19   \n",
       "\n",
       "                                                Tags  AnswerCount  \\\n",
       "0                    <machine-learning><data-mining>            0   \n",
       "1  <machine-learning><regression><linear-regressi...            0   \n",
       "2       <python><time-series><forecast><forecasting>            0   \n",
       "3              <machine-learning><scikit-learn><pca>            1   \n",
       "4           <dataset><bigdata><data><speech-to-text>            0   \n",
       "\n",
       "   FavoriteCount  \n",
       "0            NaN  \n",
       "1            NaN  \n",
       "2            NaN  \n",
       "3            NaN  \n",
       "4            NaN  "
      ]
     },
     "execution_count": 1,
     "metadata": {},
     "output_type": "execute_result"
    }
   ],
   "source": [
    "%matplotlib inline\n",
    "import pandas as pd\n",
    "import matplotlib.pyplot as plt\n",
    "import numpy as np\n",
    "\n",
    "#read in and explore the dataset\n",
    "questions = pd.read_csv('2019_questions.csv', parse_dates=['CreationDate'])\n",
    "questions.head()\n",
    "\n"
   ]
  },
  {
   "cell_type": "code",
   "execution_count": 2,
   "metadata": {},
   "outputs": [
    {
     "name": "stdout",
     "output_type": "stream",
     "text": [
      "<class 'pandas.core.frame.DataFrame'>\n",
      "RangeIndex: 8839 entries, 0 to 8838\n",
      "Data columns (total 7 columns):\n",
      "Id               8839 non-null int64\n",
      "CreationDate     8839 non-null datetime64[ns]\n",
      "Score            8839 non-null int64\n",
      "ViewCount        8839 non-null int64\n",
      "Tags             8839 non-null object\n",
      "AnswerCount      8839 non-null int64\n",
      "FavoriteCount    1407 non-null float64\n",
      "dtypes: datetime64[ns](1), float64(1), int64(4), object(1)\n",
      "memory usage: 483.5+ KB\n"
     ]
    }
   ],
   "source": [
    "#print summary statistics\n",
    "\n",
    "questions.info()"
   ]
  },
  {
   "cell_type": "markdown",
   "metadata": {},
   "source": [
    "## First Impressions\n",
    "\n",
    "Most of the columns in our dataset look fine; however, there are a lot of missing values in the *FavoriteCount* column and the *Tags* column will have to be cleaned to be useful. "
   ]
  },
  {
   "cell_type": "code",
   "execution_count": 3,
   "metadata": {},
   "outputs": [],
   "source": [
    "#replace NaN with 0\n",
    "questions['FavoriteCount'].fillna(0, inplace=True)\n",
    "\n",
    "#clean the Tags column to make it easier to work with\n",
    "questions['Tags'] = questions['Tags'].str.replace('><',',').str.replace('<','').str.replace('>','') \n"
   ]
  },
  {
   "cell_type": "code",
   "execution_count": 4,
   "metadata": {
    "scrolled": true
   },
   "outputs": [
    {
     "data": {
      "text/html": [
       "<div>\n",
       "<style scoped>\n",
       "    .dataframe tbody tr th:only-of-type {\n",
       "        vertical-align: middle;\n",
       "    }\n",
       "\n",
       "    .dataframe tbody tr th {\n",
       "        vertical-align: top;\n",
       "    }\n",
       "\n",
       "    .dataframe thead th {\n",
       "        text-align: right;\n",
       "    }\n",
       "</style>\n",
       "<table border=\"1\" class=\"dataframe\">\n",
       "  <thead>\n",
       "    <tr style=\"text-align: right;\">\n",
       "      <th></th>\n",
       "      <th>Id</th>\n",
       "      <th>CreationDate</th>\n",
       "      <th>Score</th>\n",
       "      <th>ViewCount</th>\n",
       "      <th>Tags</th>\n",
       "      <th>AnswerCount</th>\n",
       "      <th>FavoriteCount</th>\n",
       "    </tr>\n",
       "  </thead>\n",
       "  <tbody>\n",
       "    <tr>\n",
       "      <td>0</td>\n",
       "      <td>44419</td>\n",
       "      <td>2019-01-23 09:21:13</td>\n",
       "      <td>1</td>\n",
       "      <td>21</td>\n",
       "      <td>machine-learning,data-mining</td>\n",
       "      <td>0</td>\n",
       "      <td>0.0</td>\n",
       "    </tr>\n",
       "    <tr>\n",
       "      <td>1</td>\n",
       "      <td>44420</td>\n",
       "      <td>2019-01-23 09:34:01</td>\n",
       "      <td>0</td>\n",
       "      <td>25</td>\n",
       "      <td>machine-learning,regression,linear-regression,...</td>\n",
       "      <td>0</td>\n",
       "      <td>0.0</td>\n",
       "    </tr>\n",
       "    <tr>\n",
       "      <td>2</td>\n",
       "      <td>44423</td>\n",
       "      <td>2019-01-23 09:58:41</td>\n",
       "      <td>2</td>\n",
       "      <td>1651</td>\n",
       "      <td>python,time-series,forecast,forecasting</td>\n",
       "      <td>0</td>\n",
       "      <td>0.0</td>\n",
       "    </tr>\n",
       "    <tr>\n",
       "      <td>3</td>\n",
       "      <td>44427</td>\n",
       "      <td>2019-01-23 10:57:09</td>\n",
       "      <td>0</td>\n",
       "      <td>55</td>\n",
       "      <td>machine-learning,scikit-learn,pca</td>\n",
       "      <td>1</td>\n",
       "      <td>0.0</td>\n",
       "    </tr>\n",
       "    <tr>\n",
       "      <td>4</td>\n",
       "      <td>44428</td>\n",
       "      <td>2019-01-23 11:02:15</td>\n",
       "      <td>0</td>\n",
       "      <td>19</td>\n",
       "      <td>dataset,bigdata,data,speech-to-text</td>\n",
       "      <td>0</td>\n",
       "      <td>0.0</td>\n",
       "    </tr>\n",
       "  </tbody>\n",
       "</table>\n",
       "</div>"
      ],
      "text/plain": [
       "      Id        CreationDate  Score  ViewCount  \\\n",
       "0  44419 2019-01-23 09:21:13      1         21   \n",
       "1  44420 2019-01-23 09:34:01      0         25   \n",
       "2  44423 2019-01-23 09:58:41      2       1651   \n",
       "3  44427 2019-01-23 10:57:09      0         55   \n",
       "4  44428 2019-01-23 11:02:15      0         19   \n",
       "\n",
       "                                                Tags  AnswerCount  \\\n",
       "0                       machine-learning,data-mining            0   \n",
       "1  machine-learning,regression,linear-regression,...            0   \n",
       "2            python,time-series,forecast,forecasting            0   \n",
       "3                  machine-learning,scikit-learn,pca            1   \n",
       "4                dataset,bigdata,data,speech-to-text            0   \n",
       "\n",
       "   FavoriteCount  \n",
       "0            0.0  \n",
       "1            0.0  \n",
       "2            0.0  \n",
       "3            0.0  \n",
       "4            0.0  "
      ]
     },
     "execution_count": 4,
     "metadata": {},
     "output_type": "execute_result"
    }
   ],
   "source": [
    "questions.head()"
   ]
  },
  {
   "cell_type": "markdown",
   "metadata": {},
   "source": [
    "## Tag Counts and Views\n",
    "\n",
    "Next, we'll count the number of times each tag is used in a post and then the number of times a post with that tag has been viewed.  "
   ]
  },
  {
   "cell_type": "code",
   "execution_count": 5,
   "metadata": {},
   "outputs": [
    {
     "data": {
      "text/plain": [
       "<matplotlib.axes._subplots.AxesSubplot at 0x7f9fcd4f7f50>"
      ]
     },
     "execution_count": 5,
     "metadata": {},
     "output_type": "execute_result"
    },
    {
     "data": {
      "image/png": "[encoded data removed]",
      "text/plain": [
       "<Figure size 864x432 with 1 Axes>"
      ]
     },
     "metadata": {
      "needs_background": "light"
     },
     "output_type": "display_data"
    }
   ],
   "source": [
    "#create a dictionary to store tag counts\n",
    "tag_use_counts = {}\n",
    "\n",
    "#create a function to count the occurence of each tag\n",
    "def count_tag_use(row):\n",
    "    item_list = row.split(',')\n",
    "    for item in item_list:\n",
    "        if item in tag_use_counts:\n",
    "            tag_use_counts[item] += 1\n",
    "        else:\n",
    "            tag_use_counts[item] = 1\n",
    "\n",
    "#apply function to the Tags column\n",
    "questions['Tags'].apply(count_tag_use)\n",
    "\n",
    "#sort the dictionary adn return the top 20 tags\n",
    "top_twenty_tags = sorted(tag_use_counts.items(), key = lambda x: x[1], reverse =True)[:20]\n",
    "\n",
    "#convert to a dataframe\n",
    "top_twenty = pd.DataFrame(top_twenty_tags, columns=['Tag', 'Count'])\n",
    "\n",
    "#display as a bar graph\n",
    "top_twenty.plot.bar(x='Tag', y='Count', figsize=(12,6))"
   ]
  },
  {
   "cell_type": "code",
   "execution_count": 6,
   "metadata": {},
   "outputs": [
    {
     "name": "stdout",
     "output_type": "stream",
     "text": [
      "                 Tag  View_Count\n",
      "0             python      537585\n",
      "1   machine-learning      388499\n",
      "2              keras      268608\n",
      "3      deep-learning      233628\n",
      "4             pandas      201787\n",
      "5     neural-network      185367\n",
      "6       scikit-learn      128110\n",
      "7         tensorflow      121369\n",
      "8     classification      104457\n",
      "9          dataframe       89352\n",
      "10              lstm       74458\n",
      "11               nlp       71382\n",
      "12               cnn       70349\n",
      "13       time-series       64134\n",
      "14             numpy       49767\n",
      "15        regression       49451\n",
      "16           dataset       43151\n",
      "17           pytorch       40240\n",
      "18               csv       38654\n",
      "19        clustering       33928\n"
     ]
    },
    {
     "data": {
      "text/plain": [
       "<matplotlib.axes._subplots.AxesSubplot at 0x7f9fccd4d450>"
      ]
     },
     "execution_count": 6,
     "metadata": {},
     "output_type": "execute_result"
    },
    {
     "data": {
      "image/png": "[encoded data removed]",
      "text/plain": [
       "<Figure size 864x432 with 1 Axes>"
      ]
     },
     "metadata": {
      "needs_background": "light"
     },
     "output_type": "display_data"
    }
   ],
   "source": [
    "#create a dictionary to store the tag view counts\n",
    "tag_view_counts = {}\n",
    "\n",
    "#create a function to get view counts\n",
    "def get_view_counts(row):\n",
    "    tag_list = row['Tags'].split(',')\n",
    "    for tag in tag_list:\n",
    "        if tag in tag_view_counts:\n",
    "            tag_view_counts[tag] += row['ViewCount']\n",
    "        else:\n",
    "            tag_view_counts[tag] = row['ViewCount']\n",
    "\n",
    "#apply the function\n",
    "questions.apply(get_view_counts, axis=1)     \n",
    "\n",
    "#sort the dictionary and return the top 20 view counts\n",
    "top_twenty_view_counts = sorted(tag_view_counts.items(), key = lambda x: x[1], reverse =True)[:20]\n",
    "\n",
    "#create dataframe of top twenty view counts\n",
    "top_twenty_views = pd.DataFrame(top_twenty_view_counts, columns = ['Tag', 'View_Count'])\n",
    "    \n",
    "print(top_twenty_views)\n",
    "\n",
    "#Display as a bar graph\n",
    "top_twenty_views.plot.bar(x='Tag', y='View_Count', figsize=(12,6))"
   ]
  },
  {
   "cell_type": "markdown",
   "metadata": {},
   "source": [
    "## Correlation Between Tag Use and Views\n",
    "\n",
    "It's pretty easy to see both the tag use and view count are closely correlated.  Machine-learning and python are the top two results in both lists (although they are transposed) and deep-learning, keras and neural-network are close behind. At a glance, it seems the most popular topics converge around machine-learning, and with python in particular. To confirm this, we'll run the following query on the DSSE to obtain all of the questions ever asked:\n",
    "\n",
    "**<code>\n",
    "SELECT Id, CreationDate, Tags\n",
    "    FROM posts\n",
    "   WHERE PostTypeId = 1;\n",
    "</code>**\n",
    "\n",
    "then we'll use the results to track the interest in machine-learning across time.\n"
   ]
  },
  {
   "cell_type": "code",
   "execution_count": 7,
   "metadata": {},
   "outputs": [],
   "source": [
    "#read the new dataset in\n",
    "all_questions = pd.read_csv('all_questions.csv', parse_dates=['CreationDate'])"
   ]
  },
  {
   "cell_type": "markdown",
   "metadata": {},
   "source": []
  },
  {
   "cell_type": "code",
   "execution_count": 8,
   "metadata": {
    "scrolled": true
   },
   "outputs": [
    {
     "data": {
      "text/html": [
       "<div>\n",
       "<style scoped>\n",
       "    .dataframe tbody tr th:only-of-type {\n",
       "        vertical-align: middle;\n",
       "    }\n",
       "\n",
       "    .dataframe tbody tr th {\n",
       "        vertical-align: top;\n",
       "    }\n",
       "\n",
       "    .dataframe thead th {\n",
       "        text-align: right;\n",
       "    }\n",
       "</style>\n",
       "<table border=\"1\" class=\"dataframe\">\n",
       "  <thead>\n",
       "    <tr style=\"text-align: right;\">\n",
       "      <th></th>\n",
       "      <th>Id</th>\n",
       "      <th>CreationDate</th>\n",
       "      <th>Tags</th>\n",
       "    </tr>\n",
       "  </thead>\n",
       "  <tbody>\n",
       "    <tr>\n",
       "      <td>0</td>\n",
       "      <td>45416</td>\n",
       "      <td>2019-02-12 00:36:29</td>\n",
       "      <td>&lt;python&gt;&lt;keras&gt;&lt;tensorflow&gt;&lt;cnn&gt;&lt;probability&gt;</td>\n",
       "    </tr>\n",
       "    <tr>\n",
       "      <td>1</td>\n",
       "      <td>45418</td>\n",
       "      <td>2019-02-12 00:50:39</td>\n",
       "      <td>&lt;neural-network&gt;</td>\n",
       "    </tr>\n",
       "    <tr>\n",
       "      <td>2</td>\n",
       "      <td>45422</td>\n",
       "      <td>2019-02-12 04:40:51</td>\n",
       "      <td>&lt;python&gt;&lt;ibm-watson&gt;&lt;chatbot&gt;</td>\n",
       "    </tr>\n",
       "    <tr>\n",
       "      <td>3</td>\n",
       "      <td>45426</td>\n",
       "      <td>2019-02-12 04:51:49</td>\n",
       "      <td>&lt;keras&gt;</td>\n",
       "    </tr>\n",
       "    <tr>\n",
       "      <td>4</td>\n",
       "      <td>45427</td>\n",
       "      <td>2019-02-12 05:08:24</td>\n",
       "      <td>&lt;r&gt;&lt;predictive-modeling&gt;&lt;machine-learning-mode...</td>\n",
       "    </tr>\n",
       "  </tbody>\n",
       "</table>\n",
       "</div>"
      ],
      "text/plain": [
       "      Id        CreationDate  \\\n",
       "0  45416 2019-02-12 00:36:29   \n",
       "1  45418 2019-02-12 00:50:39   \n",
       "2  45422 2019-02-12 04:40:51   \n",
       "3  45426 2019-02-12 04:51:49   \n",
       "4  45427 2019-02-12 05:08:24   \n",
       "\n",
       "                                                Tags  \n",
       "0      <python><keras><tensorflow><cnn><probability>  \n",
       "1                                   <neural-network>  \n",
       "2                      <python><ibm-watson><chatbot>  \n",
       "3                                            <keras>  \n",
       "4  <r><predictive-modeling><machine-learning-mode...  "
      ]
     },
     "execution_count": 8,
     "metadata": {},
     "output_type": "execute_result"
    }
   ],
   "source": [
    "all_questions.head()"
   ]
  },
  {
   "cell_type": "markdown",
   "metadata": {},
   "source": [
    "To plot the number of machine-learning questions per month, we'll first define a list of machine-learning specific terms. After that, we'll extract the year and month from the *CreationDate* column and aggragate the number of questions around each month. From there, we'll plot the questions and see if machine-learning is a passing fad, or if it's worth investing in courses specific to these topics.  \n",
    "\n",
    "**Note:** We've purposefully left python out of this list as it's not specific to machine-learning. However, We've left in keras, tensorflow, and scitkit-learn, because while they are python libraries, they are used specifically for machine-learning. "
   ]
  },
  {
   "cell_type": "code",
   "execution_count": 9,
   "metadata": {},
   "outputs": [],
   "source": [
    "#clean the tags column\n",
    "all_questions['Tags'] = all_questions['Tags'].str.replace('><',',').str.replace('<','').str.replace('>','') \n",
    "\n",
    "#create a list of machine-learning terms\n",
    "ml_tags = ['machine-learning','machine-learning-model',\n",
    "           'neural-network', 'deep-learning', 'keras',\n",
    "          'scikit-learn', 'tensorflow']\n",
    "\n",
    "#define function to test if row contains machine-learning terms\n",
    "def ml_or_not(row):\n",
    "     for item in row.split(','):\n",
    "        if item in ml_tags:\n",
    "            return 1\n",
    "     return 0\n",
    "\n",
    "#apply the function to the 'Tags' column\n",
    "all_questions['ml_question'] = all_questions['Tags'].apply(ml_or_not).astype('int64')\n"
   ]
  },
  {
   "cell_type": "code",
   "execution_count": 10,
   "metadata": {},
   "outputs": [
    {
     "data": {
      "text/html": [
       "<div>\n",
       "<style scoped>\n",
       "    .dataframe tbody tr th:only-of-type {\n",
       "        vertical-align: middle;\n",
       "    }\n",
       "\n",
       "    .dataframe tbody tr th {\n",
       "        vertical-align: top;\n",
       "    }\n",
       "\n",
       "    .dataframe thead th {\n",
       "        text-align: right;\n",
       "    }\n",
       "</style>\n",
       "<table border=\"1\" class=\"dataframe\">\n",
       "  <thead>\n",
       "    <tr style=\"text-align: right;\">\n",
       "      <th></th>\n",
       "      <th>Id</th>\n",
       "      <th>CreationDate</th>\n",
       "      <th>Tags</th>\n",
       "      <th>ml_question</th>\n",
       "    </tr>\n",
       "  </thead>\n",
       "  <tbody>\n",
       "    <tr>\n",
       "      <td>0</td>\n",
       "      <td>45416</td>\n",
       "      <td>2019-02-12 00:36:29</td>\n",
       "      <td>python,keras,tensorflow,cnn,probability</td>\n",
       "      <td>1</td>\n",
       "    </tr>\n",
       "    <tr>\n",
       "      <td>1</td>\n",
       "      <td>45418</td>\n",
       "      <td>2019-02-12 00:50:39</td>\n",
       "      <td>neural-network</td>\n",
       "      <td>1</td>\n",
       "    </tr>\n",
       "    <tr>\n",
       "      <td>2</td>\n",
       "      <td>45422</td>\n",
       "      <td>2019-02-12 04:40:51</td>\n",
       "      <td>python,ibm-watson,chatbot</td>\n",
       "      <td>0</td>\n",
       "    </tr>\n",
       "    <tr>\n",
       "      <td>3</td>\n",
       "      <td>45426</td>\n",
       "      <td>2019-02-12 04:51:49</td>\n",
       "      <td>keras</td>\n",
       "      <td>1</td>\n",
       "    </tr>\n",
       "    <tr>\n",
       "      <td>4</td>\n",
       "      <td>45427</td>\n",
       "      <td>2019-02-12 05:08:24</td>\n",
       "      <td>r,predictive-modeling,machine-learning-model,s...</td>\n",
       "      <td>1</td>\n",
       "    </tr>\n",
       "  </tbody>\n",
       "</table>\n",
       "</div>"
      ],
      "text/plain": [
       "      Id        CreationDate  \\\n",
       "0  45416 2019-02-12 00:36:29   \n",
       "1  45418 2019-02-12 00:50:39   \n",
       "2  45422 2019-02-12 04:40:51   \n",
       "3  45426 2019-02-12 04:51:49   \n",
       "4  45427 2019-02-12 05:08:24   \n",
       "\n",
       "                                                Tags  ml_question  \n",
       "0            python,keras,tensorflow,cnn,probability            1  \n",
       "1                                     neural-network            1  \n",
       "2                          python,ibm-watson,chatbot            0  \n",
       "3                                              keras            1  \n",
       "4  r,predictive-modeling,machine-learning-model,s...            1  "
      ]
     },
     "execution_count": 10,
     "metadata": {},
     "output_type": "execute_result"
    }
   ],
   "source": [
    "all_questions.head()"
   ]
  },
  {
   "cell_type": "code",
   "execution_count": 11,
   "metadata": {},
   "outputs": [],
   "source": [
    "#define functions to extract year and month from CreationDate\n",
    "def get_year(row):\n",
    "    return row.year\n",
    "\n",
    "def get_month(row):\n",
    "    return row.month\n",
    "\n",
    "#apply functions\n",
    "all_questions['year'] = all_questions['CreationDate'].apply(get_year)\n",
    "all_questions['month'] = all_questions['CreationDate'].apply(get_month)\n",
    "\n",
    "#drop the Id column\n",
    "all_questions.drop(columns=['Id'], inplace = True)"
   ]
  },
  {
   "cell_type": "code",
   "execution_count": 12,
   "metadata": {},
   "outputs": [
    {
     "data": {
      "text/html": [
       "<div>\n",
       "<style scoped>\n",
       "    .dataframe tbody tr th:only-of-type {\n",
       "        vertical-align: middle;\n",
       "    }\n",
       "\n",
       "    .dataframe tbody tr th {\n",
       "        vertical-align: top;\n",
       "    }\n",
       "\n",
       "    .dataframe thead th {\n",
       "        text-align: right;\n",
       "    }\n",
       "</style>\n",
       "<table border=\"1\" class=\"dataframe\">\n",
       "  <thead>\n",
       "    <tr style=\"text-align: right;\">\n",
       "      <th></th>\n",
       "      <th>CreationDate</th>\n",
       "      <th>Tags</th>\n",
       "      <th>ml_question</th>\n",
       "      <th>year</th>\n",
       "      <th>month</th>\n",
       "    </tr>\n",
       "  </thead>\n",
       "  <tbody>\n",
       "    <tr>\n",
       "      <td>21571</td>\n",
       "      <td>2018-08-15 14:19:01</td>\n",
       "      <td>statistics,data</td>\n",
       "      <td>0</td>\n",
       "      <td>2018</td>\n",
       "      <td>8</td>\n",
       "    </tr>\n",
       "    <tr>\n",
       "      <td>21572</td>\n",
       "      <td>2018-08-15 14:40:27</td>\n",
       "      <td>machine-learning,neural-network,classifier</td>\n",
       "      <td>1</td>\n",
       "      <td>2018</td>\n",
       "      <td>8</td>\n",
       "    </tr>\n",
       "    <tr>\n",
       "      <td>21573</td>\n",
       "      <td>2018-08-15 14:53:43</td>\n",
       "      <td>machine-learning,classification</td>\n",
       "      <td>1</td>\n",
       "      <td>2018</td>\n",
       "      <td>8</td>\n",
       "    </tr>\n",
       "    <tr>\n",
       "      <td>21574</td>\n",
       "      <td>2018-08-14 19:31:43</td>\n",
       "      <td>tensorflow,python</td>\n",
       "      <td>1</td>\n",
       "      <td>2018</td>\n",
       "      <td>8</td>\n",
       "    </tr>\n",
       "    <tr>\n",
       "      <td>21575</td>\n",
       "      <td>2018-08-15 17:01:29</td>\n",
       "      <td>python,deep-learning,tensorflow</td>\n",
       "      <td>1</td>\n",
       "      <td>2018</td>\n",
       "      <td>8</td>\n",
       "    </tr>\n",
       "  </tbody>\n",
       "</table>\n",
       "</div>"
      ],
      "text/plain": [
       "             CreationDate                                        Tags  \\\n",
       "21571 2018-08-15 14:19:01                             statistics,data   \n",
       "21572 2018-08-15 14:40:27  machine-learning,neural-network,classifier   \n",
       "21573 2018-08-15 14:53:43             machine-learning,classification   \n",
       "21574 2018-08-14 19:31:43                           tensorflow,python   \n",
       "21575 2018-08-15 17:01:29             python,deep-learning,tensorflow   \n",
       "\n",
       "       ml_question  year  month  \n",
       "21571            0  2018      8  \n",
       "21572            1  2018      8  \n",
       "21573            1  2018      8  \n",
       "21574            1  2018      8  \n",
       "21575            1  2018      8  "
      ]
     },
     "execution_count": 12,
     "metadata": {},
     "output_type": "execute_result"
    }
   ],
   "source": [
    "all_questions.tail()"
   ]
  },
  {
   "cell_type": "code",
   "execution_count": 13,
   "metadata": {},
   "outputs": [
    {
     "data": {
      "text/html": [
       "<div>\n",
       "<style scoped>\n",
       "    .dataframe tbody tr th:only-of-type {\n",
       "        vertical-align: middle;\n",
       "    }\n",
       "\n",
       "    .dataframe tbody tr th {\n",
       "        vertical-align: top;\n",
       "    }\n",
       "\n",
       "    .dataframe thead th {\n",
       "        text-align: right;\n",
       "    }\n",
       "</style>\n",
       "<table border=\"1\" class=\"dataframe\">\n",
       "  <thead>\n",
       "    <tr style=\"text-align: right;\">\n",
       "      <th></th>\n",
       "      <th></th>\n",
       "      <th>ml_question</th>\n",
       "    </tr>\n",
       "    <tr>\n",
       "      <th>year</th>\n",
       "      <th>month</th>\n",
       "      <th></th>\n",
       "    </tr>\n",
       "  </thead>\n",
       "  <tbody>\n",
       "    <tr>\n",
       "      <td rowspan=\"5\" valign=\"top\">2014</td>\n",
       "      <td>5</td>\n",
       "      <td>11</td>\n",
       "    </tr>\n",
       "    <tr>\n",
       "      <td>6</td>\n",
       "      <td>33</td>\n",
       "    </tr>\n",
       "    <tr>\n",
       "      <td>7</td>\n",
       "      <td>28</td>\n",
       "    </tr>\n",
       "    <tr>\n",
       "      <td>8</td>\n",
       "      <td>24</td>\n",
       "    </tr>\n",
       "    <tr>\n",
       "      <td>9</td>\n",
       "      <td>19</td>\n",
       "    </tr>\n",
       "    <tr>\n",
       "      <td>...</td>\n",
       "      <td>...</td>\n",
       "      <td>...</td>\n",
       "    </tr>\n",
       "    <tr>\n",
       "      <td rowspan=\"4\" valign=\"top\">2019</td>\n",
       "      <td>9</td>\n",
       "      <td>395</td>\n",
       "    </tr>\n",
       "    <tr>\n",
       "      <td>10</td>\n",
       "      <td>348</td>\n",
       "    </tr>\n",
       "    <tr>\n",
       "      <td>11</td>\n",
       "      <td>377</td>\n",
       "    </tr>\n",
       "    <tr>\n",
       "      <td>12</td>\n",
       "      <td>398</td>\n",
       "    </tr>\n",
       "    <tr>\n",
       "      <td>2020</td>\n",
       "      <td>1</td>\n",
       "      <td>243</td>\n",
       "    </tr>\n",
       "  </tbody>\n",
       "</table>\n",
       "<p>69 rows × 1 columns</p>\n",
       "</div>"
      ],
      "text/plain": [
       "            ml_question\n",
       "year month             \n",
       "2014 5               11\n",
       "     6               33\n",
       "     7               28\n",
       "     8               24\n",
       "     9               19\n",
       "...                 ...\n",
       "2019 9              395\n",
       "     10             348\n",
       "     11             377\n",
       "     12             398\n",
       "2020 1              243\n",
       "\n",
       "[69 rows x 1 columns]"
      ]
     },
     "execution_count": 13,
     "metadata": {},
     "output_type": "execute_result"
    }
   ],
   "source": [
    "#initialize a pivot table to see the number of ml questions per month\n",
    "table = all_questions.pivot_table(index = ['year', 'month'], aggfunc=np.sum )\n",
    "table\n"
   ]
  },
  {
   "cell_type": "code",
   "execution_count": 19,
   "metadata": {},
   "outputs": [
    {
     "data": {
      "image/png": "[encoded data removed]",
      "text/plain": [
       "<Figure size 1296x720 with 1 Axes>"
      ]
     },
     "metadata": {
      "needs_background": "light"
     },
     "output_type": "display_data"
    }
   ],
   "source": [
    "#plot the number of questions per month\n",
    "ax = table.plot(kind='line', figsize=(18, 10))"
   ]
  },
  {
   "cell_type": "markdown",
   "metadata": {
    "collapsed": true
   },
   "source": [
    "## Results\n",
    "\n",
    "Looking at our graph, it seems machine-learning specific questions peaked around June of 2019; however, even the most recent data shows a large number of questions centered around these topics, and the overall trend is rising. Is it a fad? Will the machine-learning 'bubble' pop? Possibly. For now, though, it seems worthwhile to invest in machine-learning courses as there is obviously still a demand for this knowledge."
   ]
  },
  {
   "cell_type": "code",
   "execution_count": null,
   "metadata": {},
   "outputs": [],
   "source": []
  }
 ],
 "metadata": {
  "kernelspec": {
   "display_name": "Python 3",
   "language": "python",
   "name": "python3"
  },
  "language_info": {
   "codemirror_mode": {
    "name": "ipython",
    "version": 3
   },
   "file_extension": ".py",
   "mimetype": "text/x-python",
   "name": "python",
   "nbconvert_exporter": "python",
   "pygments_lexer": "ipython3",
   "version": "3.7.4"
  }
 },
 "nbformat": 4,
 "nbformat_minor": 2
}
